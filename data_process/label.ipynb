{
 "cells": [
  {
   "cell_type": "code",
   "execution_count": 1,
   "metadata": {},
   "outputs": [
    {
     "name": "stdout",
     "output_type": "stream",
     "text": [
      "标注后的数据已保存至 Labeled_Train Data.csv\n"
     ]
    }
   ],
   "source": [
    "import pandas as pd\n",
    "from datetime import datetime\n",
    "\n",
    "# 加载数据\n",
    "file_path = 'Train Data.csv'  # 请替换为您的本地路径\n",
    "data = pd.read_csv(file_path, parse_dates=['DateTime'])\n",
    "\n",
    "# 初始化节假日标注列，默认设为0（非节假日）\n",
    "data['holiday'] = 0\n",
    "\n",
    "# 更新2020-2024年法定节假日和伴随假期安排\n",
    "holidays = {\n",
    "    2020: {\n",
    "        \"New Year's Day\": {\"official\": [datetime(2020, 1, 1)], \"extra\": []},\n",
    "        \"Spring Festival\": {\"official\": [datetime(2020, 1, 24), datetime(2020, 1, 25)], \n",
    "                            \"extra\": [datetime(2020, 1, 26), datetime(2020, 1, 27), datetime(2020, 1, 28), datetime(2020, 1, 29), datetime(2020, 1, 30)]},\n",
    "        \"Qingming Festival\": {\"official\": [datetime(2020, 4, 4)], \"extra\": [datetime(2020, 4, 5), datetime(2020, 4, 6)]},\n",
    "        \"Labor Day\": {\"official\": [datetime(2020, 5, 1)], \"extra\": [datetime(2020, 5, 2), datetime(2020, 5, 3), datetime(2020, 5, 4), datetime(2020, 5, 5)]},\n",
    "        \"Dragon Boat Festival\": {\"official\": [datetime(2020, 6, 25)], \"extra\": [datetime(2020, 6, 26), datetime(2020, 6, 27)]},\n",
    "        \"National Day & Mid-Autumn Festival\": {\"official\": [datetime(2020, 10, 1), datetime(2020, 10, 2)], \n",
    "                                               \"extra\": [datetime(2020, 10, 3), datetime(2020, 10, 4), datetime(2020, 10, 5), datetime(2020, 10, 6), datetime(2020, 10, 7), datetime(2020, 10, 8)]}\n",
    "    },\n",
    "    2021: {\n",
    "        \"New Year's Day\": {\"official\": [datetime(2021, 1, 1)], \"extra\": [datetime(2021, 1, 2), datetime(2021, 1, 3)]},\n",
    "        \"Spring Festival\": {\"official\": [datetime(2021, 2, 11), datetime(2021, 2, 12)], \n",
    "                            \"extra\": [datetime(2021, 2, 13), datetime(2021, 2, 14), datetime(2021, 2, 15), datetime(2021, 2, 16), datetime(2021, 2, 17)]},\n",
    "        \"Qingming Festival\": {\"official\": [datetime(2021, 4, 4)], \"extra\": [datetime(2021, 4, 3), datetime(2021, 4, 5)]},\n",
    "        \"Labor Day\": {\"official\": [datetime(2021, 5, 1)], \"extra\": [datetime(2021, 5, 2), datetime(2021, 5, 3), datetime(2021, 5, 4), datetime(2021, 5, 5)]},\n",
    "        \"Dragon Boat Festival\": {\"official\": [datetime(2021, 6, 14)], \"extra\": [datetime(2021, 6, 12), datetime(2021, 6, 13)]},\n",
    "        \"Mid-Autumn Festival\": {\"official\": [datetime(2021, 9, 21)], \"extra\": [datetime(2021, 9, 19), datetime(2021, 9, 20)]},\n",
    "        \"National Day\": {\"official\": [datetime(2021, 10, 1)], \"extra\": [datetime(2021, 10, 2), datetime(2021, 10, 3), datetime(2021, 10, 4), datetime(2021, 10, 5), datetime(2021, 10, 6), datetime(2021, 10, 7)]}\n",
    "    },\n",
    "    2022: {\n",
    "        \"New Year's Day\": {\"official\": [datetime(2022, 1, 1)], \"extra\": [datetime(2022, 1, 2), datetime(2022, 1, 3)]},\n",
    "        \"Spring Festival\": {\"official\": [datetime(2022, 1, 31), datetime(2022, 2, 1)], \n",
    "                            \"extra\": [datetime(2022, 2, 2), datetime(2022, 2, 3), datetime(2022, 2, 4), datetime(2022, 2, 5), datetime(2022, 2, 6)]},\n",
    "        \"Qingming Festival\": {\"official\": [datetime(2022, 4, 5)], \"extra\": [datetime(2022, 4, 3), datetime(2022, 4, 4)]},\n",
    "        \"Labor Day\": {\"official\": [datetime(2022, 5, 1)], \"extra\": [datetime(2022, 4, 30), datetime(2022, 5, 2), datetime(2022, 5, 3), datetime(2022, 5, 4)]},\n",
    "        \"Dragon Boat Festival\": {\"official\": [datetime(2022, 6, 3)], \"extra\": [datetime(2022, 6, 4), datetime(2022, 6, 5)]},\n",
    "        \"Mid-Autumn Festival\": {\"official\": [datetime(2022, 9, 10)], \"extra\": [datetime(2022, 9, 11), datetime(2022, 9, 12)]},\n",
    "        \"National Day\": {\"official\": [datetime(2022, 10, 1)], \"extra\": [datetime(2022, 10, 2), datetime(2022, 10, 3), datetime(2022, 10, 4), datetime(2022, 10, 5), datetime(2022, 10, 6), datetime(2022, 10, 7)]}\n",
    "    },\n",
    "    2023: {\n",
    "        \"New Year's Day\": {\"official\": [datetime(2023, 1, 1)], \"extra\": [datetime(2023, 1, 2)]},\n",
    "        \"Spring Festival\": {\"official\": [datetime(2023, 1, 21), datetime(2023, 1, 22)], \n",
    "                            \"extra\": [datetime(2023, 1, 23), datetime(2023, 1, 24), datetime(2023, 1, 25), datetime(2023, 1, 26), datetime(2023, 1, 27)]},\n",
    "        \"Qingming Festival\": {\"official\": [datetime(2023, 4, 5)], \"extra\": []},\n",
    "        \"Labor Day\": {\"official\": [datetime(2023, 5, 1)], \"extra\": [datetime(2023, 4, 29), datetime(2023, 4, 30), datetime(2023, 5, 2), datetime(2023, 5, 3)]},\n",
    "        \"Dragon Boat Festival\": {\"official\": [datetime(2023, 6, 22)], \"extra\": [datetime(2023, 6, 23), datetime(2023, 6, 24)]},\n",
    "        \"Mid-Autumn Festival & National Day\": {\"official\": [datetime(2023, 9, 29), datetime(2023, 10, 1)], \n",
    "                                               \"extra\": [datetime(2023, 9, 30), datetime(2023, 10, 2), datetime(2023, 10, 3), datetime(2023, 10, 4), datetime(2023, 10, 5), datetime(2023, 10, 6)]}\n",
    "    }\n",
    "}\n",
    "\n",
    "# 标记法定节假日和伴随假期\n",
    "for year, holiday_dict in holidays.items():\n",
    "    for holiday_name, dates in holiday_dict.items():\n",
    "        # 标记法定节假日为1\n",
    "        for official_day in dates[\"official\"]:\n",
    "            data.loc[data['DateTime'].dt.date == official_day.date(), 'holiday'] = 1\n",
    "        \n",
    "        # 标记伴随假期为2\n",
    "        for extra_day in dates[\"extra\"]:\n",
    "            data.loc[data['DateTime'].dt.date == extra_day.date(), 'holiday'] = 2\n",
    "\n",
    "# 添加月份、星期几和小时数标记\n",
    "data['month'] = data['DateTime'].dt.month - 1  # 月份（0-11表示）\n",
    "data['weekday'] = data['DateTime'].dt.weekday  # 星期几（0-6表示）\n",
    "data['hour'] = data['DateTime'].dt.hour        # 小时数（0-23表示）\n",
    "\n",
    "# 保存标注后的数据\n",
    "output_file_path = 'Labeled_Train Data.csv'\n",
    "data.to_csv(output_file_path, index=False)\n",
    "print(f\"标注后的数据已保存至 {output_file_path}\")\n"
   ]
  }
 ],
 "metadata": {
  "kernelspec": {
   "display_name": "optim",
   "language": "python",
   "name": "python3"
  },
  "language_info": {
   "codemirror_mode": {
    "name": "ipython",
    "version": 3
   },
   "file_extension": ".py",
   "mimetype": "text/x-python",
   "name": "python",
   "nbconvert_exporter": "python",
   "pygments_lexer": "ipython3",
   "version": "3.9.18"
  }
 },
 "nbformat": 4,
 "nbformat_minor": 2
}
