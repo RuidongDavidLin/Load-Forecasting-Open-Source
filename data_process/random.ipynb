{
 "cells": [
  {
   "cell_type": "code",
   "execution_count": 2,
   "id": "8b87f185",
   "metadata": {},
   "outputs": [],
   "source": [
    "import pandas as pd\n",
    "import numpy as np\n",
    "import os\n",
    "\n",
    "# 1. 文件路径\n",
    "file_path = 'Train data.csv'\n",
    "\n",
    "# 2. 读取 CSV 文件\n",
    "df = pd.read_csv(file_path)\n",
    "\n",
    "# 3. 找出所有数值型列并用随机数替换\n",
    "numeric_cols = df.select_dtypes(include=[np.number]).columns\n",
    "for col in numeric_cols:\n",
    "    df[col] = np.random.random(size=len(df))\n",
    "\n",
    "# 4. 覆盖写回同名文件\n",
    "df.to_csv(file_path, index=False)\n"
   ]
  }
 ],
 "metadata": {
  "kernelspec": {
   "display_name": "end2end",
   "language": "python",
   "name": "python3"
  },
  "language_info": {
   "codemirror_mode": {
    "name": "ipython",
    "version": 3
   },
   "file_extension": ".py",
   "mimetype": "text/x-python",
   "name": "python",
   "nbconvert_exporter": "python",
   "pygments_lexer": "ipython3",
   "version": "3.9.21"
  }
 },
 "nbformat": 4,
 "nbformat_minor": 5
}
